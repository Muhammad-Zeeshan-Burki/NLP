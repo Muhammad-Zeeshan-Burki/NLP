{
 "cells": [
  {
   "cell_type": "code",
   "execution_count": 6,
   "id": "8886657b-4df4-470f-be67-4d6ebfc3c71b",
   "metadata": {},
   "outputs": [],
   "source": [
    "from nltk.stem import LancasterStemmer,RegexpStemmer, PorterStemmer ,SnowballStemmer"
   ]
  },
  {
   "cell_type": "code",
   "execution_count": 8,
   "id": "a132b200-69d2-4aee-8b44-d5ca52e3ec22",
   "metadata": {},
   "outputs": [],
   "source": [
    "l = LancasterStemmer()\n",
    "r = RegexpStemmer(\"ing\")\n",
    "p = PorterStemmer()\n",
    "s = SnowballStemmer(\"english\")\n"
   ]
  },
  {
   "cell_type": "code",
   "execution_count": 18,
   "id": "c62ecedd-a8e1-4f8f-bcda-fc9351af2cd1",
   "metadata": {},
   "outputs": [
    {
     "data": {
      "text/plain": [
       "'chang'"
      ]
     },
     "execution_count": 18,
     "metadata": {},
     "output_type": "execute_result"
    }
   ],
   "source": [
    "l.stem(\"changed\")"
   ]
  },
  {
   "cell_type": "code",
   "execution_count": 12,
   "id": "d0e8e9a4-cbc0-4a46-99ff-ad072e202687",
   "metadata": {},
   "outputs": [
    {
     "data": {
      "text/plain": [
       "'chang'"
      ]
     },
     "execution_count": 12,
     "metadata": {},
     "output_type": "execute_result"
    }
   ],
   "source": [
    "r.stem(\"changing\")"
   ]
  },
  {
   "cell_type": "code",
   "execution_count": 14,
   "id": "54233cfb-efa3-4787-b122-7bee08da9b54",
   "metadata": {},
   "outputs": [
    {
     "data": {
      "text/plain": [
       "'chang'"
      ]
     },
     "execution_count": 14,
     "metadata": {},
     "output_type": "execute_result"
    }
   ],
   "source": [
    "p.stem(\"changing\")"
   ]
  },
  {
   "cell_type": "code",
   "execution_count": 16,
   "id": "ba5beebe-ca58-4766-bf44-d6078d855b03",
   "metadata": {},
   "outputs": [
    {
     "data": {
      "text/plain": [
       "'chang'"
      ]
     },
     "execution_count": 16,
     "metadata": {},
     "output_type": "execute_result"
    }
   ],
   "source": [
    "s.stem(\"changing\")"
   ]
  },
  {
   "cell_type": "markdown",
   "id": "78d44572-3aaa-4548-b993-256ccd35b8af",
   "metadata": {},
   "source": [
    "LAMMATIZATION"
   ]
  },
  {
   "cell_type": "code",
   "execution_count": 21,
   "id": "8c1814b3-0980-420e-b3d4-0465619321d1",
   "metadata": {},
   "outputs": [],
   "source": [
    "from nltk.stem import WordNetLemmatizer"
   ]
  },
  {
   "cell_type": "code",
   "execution_count": 29,
   "id": "d1b98aa9-a68d-4466-8cdd-77a940e5f9ba",
   "metadata": {},
   "outputs": [],
   "source": [
    "wl = WordNetLemmatizer()"
   ]
  },
  {
   "cell_type": "code",
   "execution_count": 35,
   "id": "b92b8a51-e725-4dc3-b524-022f01024483",
   "metadata": {},
   "outputs": [
    {
     "data": {
      "text/plain": [
       "'mouse'"
      ]
     },
     "execution_count": 35,
     "metadata": {},
     "output_type": "execute_result"
    }
   ],
   "source": [
    "wl.lemmatize(\"mice\")"
   ]
  },
  {
   "cell_type": "code",
   "execution_count": null,
   "id": "42065fe2-073b-467a-9b28-69d7037685b5",
   "metadata": {},
   "outputs": [],
   "source": []
  }
 ],
 "metadata": {
  "kernelspec": {
   "display_name": "Python 3 (ipykernel)",
   "language": "python",
   "name": "python3"
  },
  "language_info": {
   "codemirror_mode": {
    "name": "ipython",
    "version": 3
   },
   "file_extension": ".py",
   "mimetype": "text/x-python",
   "name": "python",
   "nbconvert_exporter": "python",
   "pygments_lexer": "ipython3",
   "version": "3.12.4"
  }
 },
 "nbformat": 4,
 "nbformat_minor": 5
}
