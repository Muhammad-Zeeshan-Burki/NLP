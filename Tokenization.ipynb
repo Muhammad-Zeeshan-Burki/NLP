{
 "cells": [
  {
   "cell_type": "code",
   "execution_count": 20,
   "id": "1eb626a2-e2c6-45ac-8dc5-88e290256ece",
   "metadata": {},
   "outputs": [],
   "source": [
    "var = \"NVIDIA Cuda cores are NVIDIA Graphics Processing Units (GPUs). that you must have noticed if you purchased an NVIDIA GPU. within the last few years. But what are they?. How are they different from regular CPU cores?. In this article, we will discuss NVIDIA Cuda cores in detail.\""
   ]
  },
  {
   "cell_type": "code",
   "execution_count": 22,
   "id": "2193fc90-87e5-4ecc-a234-bf0bcc1dafe3",
   "metadata": {},
   "outputs": [
    {
     "data": {
      "text/plain": [
       "'NVIDIA Cuda cores are NVIDIA Graphics Processing Units (GPUs). that you must have noticed if you purchased an NVIDIA GPU. within the last few years. But what are they?. How are they different from regular CPU cores?. In this article, we will discuss NVIDIA Cuda cores in detail.'"
      ]
     },
     "execution_count": 22,
     "metadata": {},
     "output_type": "execute_result"
    }
   ],
   "source": [
    "var"
   ]
  },
  {
   "cell_type": "code",
   "execution_count": 24,
   "id": "87a8daf4-5de8-49c5-a228-61e6fd61967a",
   "metadata": {},
   "outputs": [],
   "source": [
    "from nltk.tokenize import word_tokenize , sent_tokenize"
   ]
  },
  {
   "cell_type": "code",
   "execution_count": 26,
   "id": "78664837-e964-470c-9671-0a88c40c6c3d",
   "metadata": {},
   "outputs": [],
   "source": [
    "sent = sent_tokenize(var)"
   ]
  },
  {
   "cell_type": "code",
   "execution_count": 28,
   "id": "711345ee-d67b-48c0-b38f-18ad02d466ea",
   "metadata": {},
   "outputs": [
    {
     "data": {
      "text/plain": [
       "['NVIDIA Cuda cores are NVIDIA Graphics Processing Units (GPUs).',\n",
       " 'that you must have noticed if you purchased an NVIDIA GPU.',\n",
       " 'within the last few years.',\n",
       " 'But what are they?.',\n",
       " 'How are they different from regular CPU cores?.',\n",
       " 'In this article, we will discuss NVIDIA Cuda cores in detail.']"
      ]
     },
     "execution_count": 28,
     "metadata": {},
     "output_type": "execute_result"
    }
   ],
   "source": [
    "sent"
   ]
  },
  {
   "cell_type": "code",
   "execution_count": 32,
   "id": "d542e172-3e0a-4c39-ab49-65863540216c",
   "metadata": {},
   "outputs": [
    {
     "name": "stdout",
     "output_type": "stream",
     "text": [
      "NVIDIA Cuda cores are NVIDIA Graphics Processing Units (GPUs).\n",
      "\n",
      "that you must have noticed if you purchased an NVIDIA GPU.\n",
      "\n",
      "within the last few years.\n",
      "\n",
      "But what are they?.\n",
      "\n",
      "How are they different from regular CPU cores?.\n",
      "\n",
      "In this article, we will discuss NVIDIA Cuda cores in detail.\n",
      "\n"
     ]
    }
   ],
   "source": [
    "for i in sent:\n",
    "    print(i)\n",
    "    print()"
   ]
  },
  {
   "cell_type": "code",
   "execution_count": 34,
   "id": "d9d526a6-2c17-41c1-8064-69ebb3b49041",
   "metadata": {},
   "outputs": [
    {
     "data": {
      "text/plain": [
       "['NVIDIA',\n",
       " 'Cuda',\n",
       " 'cores',\n",
       " 'are',\n",
       " 'NVIDIA',\n",
       " 'Graphics',\n",
       " 'Processing',\n",
       " 'Units',\n",
       " '(',\n",
       " 'GPUs',\n",
       " ')',\n",
       " '.',\n",
       " 'that',\n",
       " 'you',\n",
       " 'must',\n",
       " 'have',\n",
       " 'noticed',\n",
       " 'if',\n",
       " 'you',\n",
       " 'purchased',\n",
       " 'an',\n",
       " 'NVIDIA',\n",
       " 'GPU',\n",
       " '.',\n",
       " 'within',\n",
       " 'the',\n",
       " 'last',\n",
       " 'few',\n",
       " 'years',\n",
       " '.',\n",
       " 'But',\n",
       " 'what',\n",
       " 'are',\n",
       " 'they',\n",
       " '?',\n",
       " '.',\n",
       " 'How',\n",
       " 'are',\n",
       " 'they',\n",
       " 'different',\n",
       " 'from',\n",
       " 'regular',\n",
       " 'CPU',\n",
       " 'cores',\n",
       " '?',\n",
       " '.',\n",
       " 'In',\n",
       " 'this',\n",
       " 'article',\n",
       " ',',\n",
       " 'we',\n",
       " 'will',\n",
       " 'discuss',\n",
       " 'NVIDIA',\n",
       " 'Cuda',\n",
       " 'cores',\n",
       " 'in',\n",
       " 'detail',\n",
       " '.']"
      ]
     },
     "execution_count": 34,
     "metadata": {},
     "output_type": "execute_result"
    }
   ],
   "source": [
    "word = word_tokenize(var)\n",
    "word"
   ]
  },
  {
   "cell_type": "code",
   "execution_count": null,
   "id": "8c07d6bb-d5fc-47e7-a002-7fea1a407e59",
   "metadata": {},
   "outputs": [],
   "source": []
  }
 ],
 "metadata": {
  "kernelspec": {
   "display_name": "Python 3 (ipykernel)",
   "language": "python",
   "name": "python3"
  },
  "language_info": {
   "codemirror_mode": {
    "name": "ipython",
    "version": 3
   },
   "file_extension": ".py",
   "mimetype": "text/x-python",
   "name": "python",
   "nbconvert_exporter": "python",
   "pygments_lexer": "ipython3",
   "version": "3.12.4"
  }
 },
 "nbformat": 4,
 "nbformat_minor": 5
}
