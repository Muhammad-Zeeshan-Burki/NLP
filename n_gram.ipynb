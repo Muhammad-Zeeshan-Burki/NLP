{
 "cells": [
  {
   "cell_type": "code",
   "execution_count": 2,
   "id": "f9898f48-561a-49db-b1ca-daa096fb6e1d",
   "metadata": {},
   "outputs": [],
   "source": [
    "x= \"When your business needs to get the job done, moving the deadline isn’t an option. Artists, architects, and engineers require a highly expandable workstation platform that can deliver unmatched reliable full spectrum performance with enterprise class security features, manageability, and unrivaled expandability. AMD Ryzen Threadripper PRO processors enable demanding professionals to get more done in less time\""
   ]
  },
  {
   "cell_type": "code",
   "execution_count": 4,
   "id": "798f1111-4c8f-48f7-a780-0025839810c1",
   "metadata": {},
   "outputs": [],
   "source": [
    "from nltk.tokenize import word_tokenize"
   ]
  },
  {
   "cell_type": "code",
   "execution_count": 6,
   "id": "0256d089-0249-41b3-8909-d148b6431616",
   "metadata": {},
   "outputs": [],
   "source": [
    "w = word_tokenize(x)"
   ]
  },
  {
   "cell_type": "code",
   "execution_count": 12,
   "id": "ef8630e5-8891-4732-8d6c-0121d639d54a",
   "metadata": {},
   "outputs": [],
   "source": [
    "from nltk.collocations import BigramCollocationFinder , TrigramCollocationFinder , ngrams"
   ]
  },
  {
   "cell_type": "code",
   "execution_count": 26,
   "id": "893f6f07-3c24-43ce-80b7-e537ca8f7271",
   "metadata": {},
   "outputs": [],
   "source": [
    "b = BigramCollocationFinder.from_words(w)\n",
    "t = TrigramCollocationFinder.from_words(w)\n",
    "n = ngrams(w,2)"
   ]
  },
  {
   "cell_type": "code",
   "execution_count": 28,
   "id": "ab0fb033-c4c9-4a7f-90c6-85ee2e525a06",
   "metadata": {},
   "outputs": [
    {
     "name": "stdout",
     "output_type": "stream",
     "text": [
      "('When', 'your')\n",
      "('your', 'business')\n",
      "('business', 'needs')\n",
      "('needs', 'to')\n",
      "('to', 'get')\n",
      "('get', 'the')\n",
      "('the', 'job')\n",
      "('job', 'done')\n",
      "('done', ',')\n",
      "(',', 'moving')\n",
      "('moving', 'the')\n",
      "('the', 'deadline')\n",
      "('deadline', 'isn')\n",
      "('isn', '’')\n",
      "('’', 't')\n",
      "('t', 'an')\n",
      "('an', 'option')\n",
      "('option', '.')\n",
      "('.', 'Artists')\n",
      "('Artists', ',')\n",
      "(',', 'architects')\n",
      "('architects', ',')\n",
      "(',', 'and')\n",
      "('and', 'engineers')\n",
      "('engineers', 'require')\n",
      "('require', 'a')\n",
      "('a', 'highly')\n",
      "('highly', 'expandable')\n",
      "('expandable', 'workstation')\n",
      "('workstation', 'platform')\n",
      "('platform', 'that')\n",
      "('that', 'can')\n",
      "('can', 'deliver')\n",
      "('deliver', 'unmatched')\n",
      "('unmatched', 'reliable')\n",
      "('reliable', 'full')\n",
      "('full', 'spectrum')\n",
      "('spectrum', 'performance')\n",
      "('performance', 'with')\n",
      "('with', 'enterprise')\n",
      "('enterprise', 'class')\n",
      "('class', 'security')\n",
      "('security', 'features')\n",
      "('features', ',')\n",
      "(',', 'manageability')\n",
      "('manageability', ',')\n",
      "(',', 'and')\n",
      "('and', 'unrivaled')\n",
      "('unrivaled', 'expandability')\n",
      "('expandability', '.')\n",
      "('.', 'AMD')\n",
      "('AMD', 'Ryzen')\n",
      "('Ryzen', 'Threadripper')\n",
      "('Threadripper', 'PRO')\n",
      "('PRO', 'processors')\n",
      "('processors', 'enable')\n",
      "('enable', 'demanding')\n",
      "('demanding', 'professionals')\n",
      "('professionals', 'to')\n",
      "('to', 'get')\n",
      "('get', 'more')\n",
      "('more', 'done')\n",
      "('done', 'in')\n",
      "('in', 'less')\n",
      "('less', 'time')\n"
     ]
    }
   ],
   "source": [
    "#b.ngram_fd\n",
    "#t.ngram_fd\n",
    "for i in n:\n",
    "    print(i)"
   ]
  },
  {
   "cell_type": "code",
   "execution_count": null,
   "id": "6142eb44-de91-4e76-8a3a-1a6acf547350",
   "metadata": {},
   "outputs": [],
   "source": []
  }
 ],
 "metadata": {
  "kernelspec": {
   "display_name": "Python 3 (ipykernel)",
   "language": "python",
   "name": "python3"
  },
  "language_info": {
   "codemirror_mode": {
    "name": "ipython",
    "version": 3
   },
   "file_extension": ".py",
   "mimetype": "text/x-python",
   "name": "python",
   "nbconvert_exporter": "python",
   "pygments_lexer": "ipython3",
   "version": "3.12.4"
  }
 },
 "nbformat": 4,
 "nbformat_minor": 5
}
