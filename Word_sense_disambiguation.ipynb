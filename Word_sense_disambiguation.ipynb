{
 "cells": [
  {
   "cell_type": "code",
   "execution_count": 40,
   "id": "859ce9d4-b8a8-4dce-b5eb-724b8d69a5d0",
   "metadata": {},
   "outputs": [],
   "source": [
    "x = \"Sunfall Festival was an indie rock band based in Provo, Utah and fronted by Amy Gileadi (Amy Greetham before her marriage) who, with drummer Chris Peterson and guitarist Scott Wiley, formed the core of the band. The bass position has been less stable; first filled by George Brunt, who later moved to New York for law school. After their second bass player moved to California\""
   ]
  },
  {
   "cell_type": "code",
   "execution_count": 42,
   "id": "d5be4ead-7bd3-4997-8b05-b4f0b9b04708",
   "metadata": {},
   "outputs": [],
   "source": [
    "y = \"King is the title given to a male monarch in a variety of contexts. A king is an absolute monarch if he holds the powers of government without control, or the entire sovereignty over a nation; he is a limited monarch if his power is restrained by fixed laws; and he is an absolute, when he holds the whole legislative, judicial, and executive power, or when the legislative or judicial powers\""
   ]
  },
  {
   "cell_type": "code",
   "execution_count": 44,
   "id": "15128493-12b7-4cf6-b8ab-ffd267576b5c",
   "metadata": {},
   "outputs": [],
   "source": [
    "from nltk.wsd import lesk"
   ]
  },
  {
   "cell_type": "code",
   "execution_count": 46,
   "id": "6c8ce23a-92d0-4be3-8945-78946b3a6a6d",
   "metadata": {},
   "outputs": [],
   "source": [
    "from nltk.tokenize import word_tokenize"
   ]
  },
  {
   "cell_type": "code",
   "execution_count": 54,
   "id": "69c749ab-c39f-4f3f-af1f-29d232f20588",
   "metadata": {},
   "outputs": [],
   "source": [
    "l = lesk(word_tokenize(x) ,\"sun\" )"
   ]
  },
  {
   "cell_type": "code",
   "execution_count": 56,
   "id": "644467a3-db4b-4931-b7a8-e99c405545cb",
   "metadata": {},
   "outputs": [
    {
     "data": {
      "text/plain": [
       "Synset('sunday.n.01')"
      ]
     },
     "execution_count": 56,
     "metadata": {},
     "output_type": "execute_result"
    }
   ],
   "source": [
    "l\n"
   ]
  },
  {
   "cell_type": "code",
   "execution_count": 58,
   "id": "3db69ac9-960f-42a6-8600-3f3c10ddedeb",
   "metadata": {},
   "outputs": [
    {
     "data": {
      "text/plain": [
       "'first day of the week; observed as a day of rest and worship by most Christians'"
      ]
     },
     "execution_count": 58,
     "metadata": {},
     "output_type": "execute_result"
    }
   ],
   "source": [
    "l.definition()"
   ]
  },
  {
   "cell_type": "code",
   "execution_count": null,
   "id": "0b7f3157-d771-4f6c-a4bd-e9f1c4f690ca",
   "metadata": {},
   "outputs": [],
   "source": []
  },
  {
   "cell_type": "code",
   "execution_count": null,
   "id": "93e1bcf0-058d-48a9-8ae9-65fd1c2c5adc",
   "metadata": {},
   "outputs": [],
   "source": []
  }
 ],
 "metadata": {
  "kernelspec": {
   "display_name": "Python 3 (ipykernel)",
   "language": "python",
   "name": "python3"
  },
  "language_info": {
   "codemirror_mode": {
    "name": "ipython",
    "version": 3
   },
   "file_extension": ".py",
   "mimetype": "text/x-python",
   "name": "python",
   "nbconvert_exporter": "python",
   "pygments_lexer": "ipython3",
   "version": "3.12.4"
  }
 },
 "nbformat": 4,
 "nbformat_minor": 5
}
