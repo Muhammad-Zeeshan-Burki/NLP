{
 "cells": [
  {
   "cell_type": "code",
   "execution_count": 52,
   "id": "16492358-e39b-47ac-ba6b-40bc4676600b",
   "metadata": {},
   "outputs": [],
   "source": [
    "var = \"NVIDIA Cuda cores are NVIDIA Graphics Processing Units (GPUs) that you must have noticed if you purchased an NVIDIA GPU within the last few years. But what are they? How are they different from regular CPU cores? In this article, we will discuss NVIDIA Cuda cores in detail.The processing units found inside a GPU are called CUDA cores, which stands for ‘Compute Unified Device Architecture’ i.e, CUDA full form. This term was developed to describe the parallel computing capability and the APIs that allow us to access the instruction set of NVIDIA Cuda cores in GPU. These cores are the backbone of NVIDIA’s GPUs. First introduced in 2006, they have since become an important part of high-performance computing.\""
   ]
  },
  {
   "cell_type": "code",
   "execution_count": 54,
   "id": "d80ecf1d-faf6-435b-85d7-95532b08d7ee",
   "metadata": {},
   "outputs": [],
   "source": [
    "from nltk.tokenize import word_tokenize"
   ]
  },
  {
   "cell_type": "code",
   "execution_count": 56,
   "id": "fd2a1f97-0157-44e5-844c-6bd2ae60ec06",
   "metadata": {},
   "outputs": [],
   "source": [
    "new_var= word_tokenize(var)"
   ]
  },
  {
   "cell_type": "code",
   "execution_count": null,
   "id": "3140b779-51bb-4eee-bb1b-37f641812768",
   "metadata": {},
   "outputs": [],
   "source": []
  },
  {
   "cell_type": "code",
   "execution_count": 59,
   "id": "4c56d3e5-39ae-48b0-b142-2825b594d547",
   "metadata": {},
   "outputs": [],
   "source": [
    "from nltk.corpus import stopwords\n",
    "from string import punctuation\n"
   ]
  },
  {
   "cell_type": "code",
   "execution_count": 61,
   "id": "3ae710eb-242b-400d-ba66-3735c1891ee8",
   "metadata": {},
   "outputs": [],
   "source": [
    "stop  = stopwords.words(\"english\")"
   ]
  },
  {
   "cell_type": "code",
   "execution_count": 63,
   "id": "fe0373a3-61ad-44f9-8f4b-f68a55d33889",
   "metadata": {},
   "outputs": [],
   "source": [
    "stop_words_list = list(punctuation)+stop"
   ]
  },
  {
   "cell_type": "code",
   "execution_count": 65,
   "id": "198c8cb6-f3cc-4d49-9ae3-41c3ada9ca0d",
   "metadata": {},
   "outputs": [
    {
     "name": "stdout",
     "output_type": "stream",
     "text": [
      "NVIDIA\n",
      "Cuda\n",
      "cores\n",
      "NVIDIA\n",
      "Graphics\n",
      "Processing\n",
      "Units\n",
      "GPUs\n",
      "must\n",
      "noticed\n",
      "purchased\n",
      "NVIDIA\n",
      "GPU\n",
      "within\n",
      "last\n",
      "years\n",
      "But\n",
      "How\n",
      "different\n",
      "regular\n",
      "CPU\n",
      "cores\n",
      "In\n",
      "article\n",
      "discuss\n",
      "NVIDIA\n",
      "Cuda\n",
      "cores\n",
      "detail.The\n",
      "processing\n",
      "units\n",
      "found\n",
      "inside\n",
      "GPU\n",
      "called\n",
      "CUDA\n",
      "cores\n",
      "stands\n",
      "‘\n",
      "Compute\n",
      "Unified\n",
      "Device\n",
      "Architecture\n",
      "’\n",
      "i.e\n",
      "CUDA\n",
      "full\n",
      "form\n",
      "This\n",
      "term\n",
      "developed\n",
      "describe\n",
      "parallel\n",
      "computing\n",
      "capability\n",
      "APIs\n",
      "allow\n",
      "us\n",
      "access\n",
      "instruction\n",
      "set\n",
      "NVIDIA\n",
      "Cuda\n",
      "cores\n",
      "GPU\n",
      "These\n",
      "cores\n",
      "backbone\n",
      "NVIDIA\n",
      "’\n",
      "GPUs\n",
      "First\n",
      "introduced\n",
      "2006\n",
      "since\n",
      "become\n",
      "important\n",
      "part\n",
      "high-performance\n",
      "computing\n"
     ]
    }
   ],
   "source": [
    "for i in new_var:\n",
    "    if i not in stop_words_list:\n",
    "        print(i)\n",
    "        \n",
    "  "
   ]
  },
  {
   "cell_type": "code",
   "execution_count": null,
   "id": "1e217abb-6ed7-4a9c-8117-eedb431b266a",
   "metadata": {},
   "outputs": [],
   "source": []
  }
 ],
 "metadata": {
  "kernelspec": {
   "display_name": "Python 3 (ipykernel)",
   "language": "python",
   "name": "python3"
  },
  "language_info": {
   "codemirror_mode": {
    "name": "ipython",
    "version": 3
   },
   "file_extension": ".py",
   "mimetype": "text/x-python",
   "name": "python",
   "nbconvert_exporter": "python",
   "pygments_lexer": "ipython3",
   "version": "3.12.4"
  }
 },
 "nbformat": 4,
 "nbformat_minor": 5
}
